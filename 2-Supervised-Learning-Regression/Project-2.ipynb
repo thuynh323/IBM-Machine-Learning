{
 "metadata": {
  "language_info": {
   "codemirror_mode": {
    "name": "ipython",
    "version": 3
   },
   "file_extension": ".py",
   "mimetype": "text/x-python",
   "name": "python",
   "nbconvert_exporter": "python",
   "pygments_lexer": "ipython3",
   "version": "3.8.5"
  },
  "orig_nbformat": 2,
  "kernelspec": {
   "name": "python385jvsc74a57bd03ecf0bc38fdee8fd722ec49388e5688e8221192f0dcdeaecfe7a6657e4a45a09",
   "display_name": "Python 3.8.5 64-bit ('env': conda)"
  }
 },
 "nbformat": 4,
 "nbformat_minor": 2,
 "cells": [
  {
   "source": [
    "# Project 2 - Supervised Learning: Regression\n",
    "This notebook is a part of my second project required by the IBM Machine Learning Program.\n",
    "\n",
    "Data Source: Ford dataset from [100,000 UK Used Car Data set](https://www.kaggle.com/adityadesai13/used-car-dataset-ford-and-mercedes)\n",
    "\n",
    "The main objective of this analysis is to predict price(£) of used Ford cars using Linear Regressions.\n",
    "\n",
    "Notebook Contents:\n",
    "\n",
    ">1. Train test split<br>\n",
    "\n",
    ">2. Simple EDA<br>\n",
    "Descriptive statistics and data cleaning<br>\n",
    "Numerical features<br>\n",
    "Categorical features\n",
    "\n",
    ">3. Model variations<br>\n",
    "Apply One-hot encoding<br>\n",
    "Apply Square root transformation<br>\n",
    "Apply Standard scaling<br>\n",
    "Add Polynomial features\n",
    "\n",
    ">4. Cross-validation and Regularization<br>\n",
    "Linear Regression<br>\n",
    "Lasso Regression (L1)<br>\n",
    "Ridge Regression (L2)<br>\n",
    "Elastic Net Regression (L1 + L2)<br>\n",
    "Compare the metrics\n",
    "\n",
    ">5. Predict on the test set<br>\n",
    "Scatter plots of four models<br>\n",
    "Feature importance\n",
    "\n",
    ">6. Conclusion"
   ],
   "cell_type": "markdown",
   "metadata": {}
  },
  {
   "source": [
    "## 1. Train test split"
   ],
   "cell_type": "markdown",
   "metadata": {}
  },
  {
   "cell_type": "code",
   "execution_count": null,
   "metadata": {},
   "outputs": [],
   "source": [
    "import pandas as pd\n",
    "import numpy as np\n",
    "import seaborn as sns\n",
    "import matplotlib.pyplot as plt\n",
    "import seaborn as sns\n",
    "sns.set()\n",
    "%matplotlib inline\n",
    "\n",
    "# Mute the setting wtih a copy warnings\n",
    "pd.options.mode.chained_assignment = None"
   ]
  },
  {
   "cell_type": "code",
   "execution_count": null,
   "metadata": {},
   "outputs": [],
   "source": [
    "# Load in the dataset\n",
    "data = pd.read_csv(r'C:\\Users\\Thanh Huynh\\Documents\\Projects\\github\\IBM-Machine-Learning\\data\\ford.csv')"
   ]
  },
  {
   "cell_type": "code",
   "execution_count": null,
   "metadata": {},
   "outputs": [],
   "source": [
    "# Print out the data shape\n",
    "data.shape"
   ]
  },
  {
   "cell_type": "code",
   "execution_count": null,
   "metadata": {},
   "outputs": [],
   "source": [
    "# Drop duplicates and check the new data shape\n",
    "data = data.drop_duplicates(keep='first').reset_index(drop=True)\n",
    "data.shape"
   ]
  },
  {
   "cell_type": "code",
   "execution_count": null,
   "metadata": {},
   "outputs": [],
   "source": [
    "# Split the data to use the training set only\n",
    "# Keep the test set unseen\n",
    "from sklearn.model_selection import train_test_split\n",
    "train_and_val, test = train_test_split(data, test_size=0.2, random_state=0)\n",
    "print(f'Training and validation set size: {train_and_val.shape}')\n",
    "print(f'Test set size: {test.shape}')"
   ]
  },
  {
   "cell_type": "code",
   "execution_count": null,
   "metadata": {},
   "outputs": [],
   "source": [
    "train, val = train_test_split(train_and_val, test_size=0.25, random_state=0)\n",
    "print(f'Training set size: {train.shape}')\n",
    "print(f'Validation set size: {val.shape}')"
   ]
  },
  {
   "source": [
    "## 2. Simple EDA\n",
    "### Descriptive statistics and data cleaning"
   ],
   "cell_type": "markdown",
   "metadata": {}
  },
  {
   "cell_type": "code",
   "execution_count": null,
   "metadata": {},
   "outputs": [],
   "source": [
    "# Print out first 5 rows\n",
    "train.head()"
   ]
  },
  {
   "cell_type": "code",
   "execution_count": null,
   "metadata": {},
   "outputs": [],
   "source": [
    "# Training set info\n",
    "train.info()"
   ]
  },
  {
   "cell_type": "code",
   "execution_count": null,
   "metadata": {},
   "outputs": [],
   "source": [
    "# Basic statistics\n",
    "train.describe()"
   ]
  },
  {
   "cell_type": "code",
   "execution_count": null,
   "metadata": {},
   "outputs": [],
   "source": [
    "# Add in new feature age, and remove year\n",
    "# The data were collected in 2020, so the age column is calculated from this year\n",
    "train = train[train['year'] <= 2020]\n",
    "train['age'] = 2020 - train['year']\n",
    "train = train.drop(['year'], axis=1)"
   ]
  },
  {
   "cell_type": "code",
   "execution_count": null,
   "metadata": {},
   "outputs": [],
   "source": [
    "# Determine columns by data types\n",
    "cat_mask = (train.dtypes == np.object)\n",
    "num_mask = (train.dtypes == np.float64) | (train.dtypes == np.int64)\n",
    "\n",
    "cat_cols = train.columns[cat_mask].tolist()\n",
    "num_cols = train.columns[num_mask].tolist()\n",
    "\n",
    "print(f'Categorical columns: {cat_cols}')\n",
    "print(f'Numerical columns: {num_cols}')"
   ]
  },
  {
   "source": [
    "### Numerical features"
   ],
   "cell_type": "markdown",
   "metadata": {}
  },
  {
   "cell_type": "code",
   "execution_count": null,
   "metadata": {},
   "outputs": [],
   "source": [
    "# Create a plotting function\n",
    "def hist_loop(data: pd.DataFrame,\n",
    "              rows: int,\n",
    "              cols: int,\n",
    "              figsize: tuple):\n",
    "\n",
    "    \"\"\" Returns multiple histograms as subplots\n",
    "    \"\"\"\n",
    "    fig, axes = plt.subplots(rows,cols, figsize=figsize)\n",
    "    for i, ax in enumerate(axes.flatten()):\n",
    "        if i < len(data.columns):\n",
    "            data[sorted(data.columns)[i]].plot.hist(bins=30, ax=ax)\n",
    "            ax.set_title(f'{sorted(data.columns)[i]} distribution')\n",
    "            ax.tick_params(axis='x')\n",
    "            ax.tick_params(axis='y')\n",
    "            ax.get_yaxis().get_label().set_visible(False)\n",
    "        else:\n",
    "            fig.delaxes(ax=ax)\n",
    "    fig.tight_layout()"
   ]
  },
  {
   "cell_type": "code",
   "execution_count": null,
   "metadata": {},
   "outputs": [],
   "source": [
    "# Plot all numerical features\n",
    "hist_loop(data=train[num_cols],\n",
    "          rows=2,\n",
    "          cols=3,\n",
    "          figsize=(15,8))"
   ]
  },
  {
   "source": [
    "Now, let's check the skewness of all numerical features."
   ],
   "cell_type": "markdown",
   "metadata": {}
  },
  {
   "cell_type": "code",
   "execution_count": null,
   "metadata": {},
   "outputs": [],
   "source": [
    "def skew_df(data: pd.DataFrame, skew_limit: float) -> pd.DataFrame:\n",
    "    # Define a limit above which we will transform\n",
    "    skew_vals = data.skew()\n",
    "\n",
    "    # Showing the skewed columns\n",
    "    skew_cols = (skew_vals\n",
    "                 .sort_values(ascending=False)\n",
    "                 .to_frame('Skew')\n",
    "                 .query('abs(Skew) > {}'.format(skew_limit))\n",
    "    )\n",
    "    return skew_cols\n",
    "skew_cols = skew_df(train[num_cols], 0.75)\n",
    "skew_cols"
   ]
  },
  {
   "source": [
    "Except for tax and mpg, all features are right-skewed, and also there are zero values in engineSize (electric cars). Square root transformation might be a good choice to eliminate the skewness in this case."
   ],
   "cell_type": "markdown",
   "metadata": {}
  },
  {
   "cell_type": "code",
   "execution_count": null,
   "metadata": {},
   "outputs": [],
   "source": [
    "# Apply square root transformation on predictors only\n",
    "train_sqrt = train[num_cols].drop('price', axis=1).copy()\n",
    "for col in list(skew_cols.index):\n",
    "    if col != 'price':\n",
    "        train_sqrt[col] = train_sqrt[col].apply(np.sqrt)\n",
    "\n",
    "# Check again\n",
    "skew_df(train_sqrt, 0.75)"
   ]
  },
  {
   "source": [
    "Skewness is fixed. Let's use a pairplot to have an overview of these features and the target."
   ],
   "cell_type": "markdown",
   "metadata": {}
  },
  {
   "cell_type": "code",
   "execution_count": null,
   "metadata": {},
   "outputs": [],
   "source": [
    "# Pairplot of transformed features and the target\n",
    "sns.pairplot(train_sqrt.join(train['price']), plot_kws=dict(alpha=.2, edgecolor='none'));"
   ]
  },
  {
   "source": [
    "This plot shows that:\n",
    "- age has a linear relationship with price. It looks quite like polynomial. \n",
    "- age also has a linear relationship with mileage (the older the more miles). This is multicollinearity.\n",
    "\n",
    "Let's see how severe the multicollinearity is."
   ],
   "cell_type": "markdown",
   "metadata": {}
  },
  {
   "cell_type": "code",
   "execution_count": null,
   "metadata": {},
   "outputs": [],
   "source": [
    "from statsmodels.stats.outliers_influence import variance_inflation_factor\n",
    "\n",
    "def calc_vif(X):\n",
    "\n",
    "    # Calculating VIF\n",
    "    vif = pd.DataFrame()\n",
    "    vif[\"variables\"] = X.columns\n",
    "    vif[\"VIF\"] = [variance_inflation_factor(X.values, i) for i in range(X.shape[1])]\n",
    "\n",
    "    return(vif)"
   ]
  },
  {
   "cell_type": "code",
   "execution_count": null,
   "metadata": {},
   "outputs": [],
   "source": [
    "calc_vif(train_sqrt)"
   ]
  },
  {
   "source": [
    "The features have high multicollinearity. This problem might be resolved by regularization later."
   ],
   "cell_type": "markdown",
   "metadata": {}
  },
  {
   "source": [
    "### Categorical features\n",
    "In this part, I will check the data integrity and also plot some boxplots to see how price is different among these categories. But I will not perform much analysing to find combined relationship or correlation.\n",
    "\n",
    "These plots are based on price values before transformation."
   ],
   "cell_type": "markdown",
   "metadata": {}
  },
  {
   "cell_type": "code",
   "execution_count": null,
   "metadata": {},
   "outputs": [],
   "source": [
    "train.describe(include=np.object)"
   ]
  },
  {
   "cell_type": "code",
   "execution_count": null,
   "metadata": {},
   "outputs": [],
   "source": [
    "# Print out all unique model names\n",
    "list(train['model'].unique())"
   ]
  },
  {
   "source": [
    "There is a leading space in each model name. This is not necessary but let's just remove them."
   ],
   "cell_type": "markdown",
   "metadata": {}
  },
  {
   "cell_type": "code",
   "execution_count": null,
   "metadata": {},
   "outputs": [],
   "source": [
    "# Remove leading spaces\n",
    "train['model'] = train['model'].str.strip(' ')"
   ]
  },
  {
   "cell_type": "code",
   "execution_count": null,
   "metadata": {},
   "outputs": [],
   "source": [
    "# Boxplot of model and price\n",
    "fig, ax = plt.subplots(figsize=(15,8))\n",
    "order = sorted(list(train['model'].unique()))\n",
    "sns.boxplot(x='model', y='price', data=train, order=order, ax=ax)\n",
    "plt.xticks(rotation=45)\n",
    "plt.title('Price by Model', fontsize=16)\n",
    "plt.show()"
   ]
  },
  {
   "cell_type": "code",
   "execution_count": null,
   "metadata": {},
   "outputs": [],
   "source": [
    "list(train['transmission'].unique())"
   ]
  },
  {
   "cell_type": "code",
   "execution_count": null,
   "metadata": {},
   "outputs": [],
   "source": [
    "list(train['fuelType'].unique())"
   ]
  },
  {
   "cell_type": "code",
   "execution_count": null,
   "metadata": {},
   "outputs": [],
   "source": [
    "# Box plots of price and tranmission/ fuel type\n",
    "fig, ax = plt.subplots(1, 2, figsize=(20,6), sharey=True)\n",
    "order0 = sorted(list(train['transmission'].unique()))\n",
    "sns.boxplot(x='transmission', y='price', data=train, order=order0, ax=ax[0])\n",
    "ax[0].set_title('Price by Transmission', fontsize=16)\n",
    "ax[0].tick_params('x', labelrotation=45)\n",
    "\n",
    "order1 = sorted(list(train['fuelType'].unique()))\n",
    "sns.boxplot(x='fuelType', y='price', data=train, order=order1, ax=ax[1])\n",
    "ax[1].set_title('Price by Fuel Type', fontsize=16)\n",
    "ax[1].tick_params('x', labelrotation=45)\n",
    "plt.show()"
   ]
  },
  {
   "source": [
    "On average, car prices are different among models, transmission, and fuel types."
   ],
   "cell_type": "markdown",
   "metadata": {}
  },
  {
   "source": [
    "## 3. Model variations\n",
    "In this part, I will perform different feature engineering in an order, then fit the linear regression after each engineering step. The root mean square errors are stored and compared."
   ],
   "cell_type": "markdown",
   "metadata": {}
  },
  {
   "cell_type": "code",
   "execution_count": null,
   "metadata": {},
   "outputs": [],
   "source": [
    "# Copy the data from training and validation set\n",
    "# Clean the data\n",
    "df = train_and_val.copy()"
   ]
  },
  {
   "cell_type": "code",
   "execution_count": null,
   "metadata": {},
   "outputs": [],
   "source": [
    "from sklearn.linear_model import LinearRegression\n",
    "from sklearn.metrics import mean_squared_error, r2_score\n",
    "from sklearn.preprocessing import OneHotEncoder, StandardScaler, PolynomialFeatures"
   ]
  },
  {
   "cell_type": "code",
   "execution_count": null,
   "metadata": {},
   "outputs": [],
   "source": [
    "# Create a class for feature engineering and model fitting\n",
    "class LR_model:\n",
    "\n",
    "    # Default values\n",
    "    target = 'price'\n",
    "    test_size = 0.25\n",
    "    random_state = 0\n",
    "    skew_cols = ['engineSize', 'mileage', 'age']\n",
    "\n",
    "    def __init__(self, data):\n",
    "        self.train, self.test = train_test_split(data, test_size=LR_model.test_size, random_state=LR_model.random_state)\n",
    "    \n",
    "    def clean_data(self, df):\n",
    "\n",
    "        \"\"\" Cleans the data\"\"\"\n",
    "\n",
    "        df = df[df['year'] <= 2020]\n",
    "        df['age'] = 2020 - df['year']\n",
    "        df = df.drop(['year'], axis=1)\n",
    "        df['model'] = df['model'].str.strip(' ')\n",
    "        \n",
    "        return df\n",
    "        \n",
    "    def oh_enc(self, X_train, X_test):\n",
    "\n",
    "        \"\"\" Performs one-hot encoding and drops the first category\n",
    "        \"\"\"\n",
    "\n",
    "        ENC = OneHotEncoder(handle_unknown='ignore', sparse=False)\n",
    "\n",
    "        # Filter categorical features only\n",
    "        X_train_cat = X_train.select_dtypes(include=['object'])\n",
    "        X_test_cat = X_test.select_dtypes(include=['object'])\n",
    "\n",
    "        # Fit one-hot encoding on training set\n",
    "        # Transform both training set and test set\n",
    "        X_train_enc = ENC.fit_transform(X_train_cat)\n",
    "        X_test_enc = ENC.transform(X_test_cat)\n",
    "\n",
    "        # Join dummy values with numerical features\n",
    "        X_train_enc_df = pd.DataFrame(X_train_enc,\n",
    "                                      index=X_train.index,\n",
    "                                      columns=ENC.get_feature_names(X_train_cat.columns.tolist()))\n",
    "        X_train = X_train_enc_df.join(X_train.select_dtypes(exclude=['object']))\n",
    "\n",
    "        # Drop one column of each category\n",
    "        for col in X_train_cat.columns.tolist():\n",
    "            cat_cols = X_train.columns[X_train.columns.str.startswith(col)].tolist()\n",
    "            if len(cat_cols) > 1:\n",
    "                X_train = X_train.drop(cat_cols[0], axis=1)\n",
    "        \n",
    "        # Same steps for the test set\n",
    "        X_test_enc_df = pd.DataFrame(X_test_enc,\n",
    "                                     index=X_test.index,\n",
    "                                     columns=ENC.get_feature_names(X_test_cat.columns.tolist()))\n",
    "        X_test = X_test_enc_df.join(X_test.select_dtypes(exclude=['object']))\n",
    "        for col in X_test_cat.columns.tolist():\n",
    "            cat_cols = X_test.columns[X_test.columns.str.startswith(col)].tolist()\n",
    "            if len(cat_cols) > 1:\n",
    "                X_test = X_test.drop(cat_cols[0], axis=1)\n",
    "\n",
    "        return X_train, X_test\n",
    "\n",
    "    def sqrt_trans(self, X_train, X_test):\n",
    "\n",
    "        \"\"\" Applies square root transformation for skewed features\n",
    "        \"\"\"\n",
    "        X_train[LR_model.skew_cols] = X_train[LR_model.skew_cols].apply(np.sqrt)\n",
    "        X_test[LR_model.skew_cols] = X_test[LR_model.skew_cols].apply(np.sqrt)\n",
    "\n",
    "        return X_train, X_test\n",
    "\n",
    "    def scale_X(self, X_train, X_test):\n",
    "\n",
    "        \"\"\" Applies standard scaling for all numerical features\n",
    "        \"\"\"\n",
    "\n",
    "        scaler = StandardScaler()\n",
    "\n",
    "        # Filter numerical features only (excluding binary values)\n",
    "        float_cols = X_train.columns[~X_train.isin([0,1]).all()].tolist()\n",
    "\n",
    "        # Fit features in traning set and transform to test set\n",
    "        X_train[float_cols] = scaler.fit_transform(X_train[float_cols])\n",
    "        X_test[float_cols] = scaler.transform(X_test[float_cols])\n",
    "\n",
    "        return X_train, X_test\n",
    "\n",
    "    def add_pf(self, X_train, X_test, degree=None):\n",
    "\n",
    "        \"\"\" Adds polynomial features into the dataset\n",
    "        \"\"\"\n",
    "        \n",
    "        PF = PolynomialFeatures(degree=degree, include_bias=False)\n",
    "\n",
    "        # Filter numerical features only (excluding binary values)\n",
    "        float_cols = X_train.columns[~X_train.isin([0,1]).all()].tolist()\n",
    "\n",
    "        # Fit features in traning set and transform to test set\n",
    "        X_train_pf = PF.fit_transform(X_train[float_cols])\n",
    "        X_test_pf = PF.transform(X_test[float_cols])\n",
    "        \n",
    "        # Add non-numerical features back into the transformed training set\n",
    "        X_train_pf_df = pd.DataFrame(X_train_pf,\n",
    "                                     index=X_train.index,\n",
    "                                     columns=PF.get_feature_names(input_features=float_cols))\n",
    "        X_train = X_train_pf_df.join(X_train[X_train.columns[~X_train.columns.isin(float_cols)].tolist()])\n",
    "        \n",
    "       # Add non-numerical features back into the transformed test set\n",
    "        X_test_pf_df = pd.DataFrame(X_test_pf,\n",
    "                                    index=X_test.index,\n",
    "                                    columns=PF.get_feature_names(input_features=float_cols))\n",
    "        X_test = X_test_pf_df.join(X_test[X_test.columns[~X_test.columns.isin(float_cols)].tolist()])\n",
    "        \n",
    "        return X_train, X_test\n",
    "\n",
    "    def rmse(self, y_true, y_predicted):\n",
    "\n",
    "        \"\"\" Returns root mean squared error\"\"\"\n",
    "        return np.sqrt(mean_squared_error(y_true, y_predicted))\n",
    "\n",
    "    def model_fit(self, label=None,\n",
    "                  encoding=False,\n",
    "                  squareroot=False,\n",
    "                  scaling=False,\n",
    "                  polynomial=False,\n",
    "                  degree=None):\n",
    "        \n",
    "        \"\"\" Fits linear regression model and returns \n",
    "        RMSE of training set and test set\n",
    "        \"\"\"\n",
    "\n",
    "        # Split data\n",
    "        train, test = self.clean_data(self.train), self.clean_data(self.test)\n",
    "        X_train, X_test = train.drop(LR_model.target, axis=1), test.drop(LR_model.target, axis=1)\n",
    "        y_train, y_test = train[LR_model.target], test[LR_model.target]\n",
    "\n",
    "        # Perform feature engineering\n",
    "        if encoding:\n",
    "            X_train, X_test = self.oh_enc(X_train, X_test)\n",
    "\n",
    "        if not encoding:\n",
    "           X_train, X_test = X_train.select_dtypes(exclude=['object']), X_test.select_dtypes(exclude=['object'])\n",
    "\n",
    "        if squareroot:\n",
    "            X_train, X_test = self.sqrt_trans(X_train, X_test)\n",
    "\n",
    "        if scaling:\n",
    "            X_train, X_test = self.scale_X(X_train, X_test)\n",
    "        \n",
    "        if polynomial:\n",
    "            X_train, X_test = self.add_pf(X_train, X_test, degree)\n",
    "        \n",
    "        num_features = X_train.shape[1]\n",
    "        # Fit model and predict the target\n",
    "        LR = LinearRegression()\n",
    "        LR.fit(X_train, y_train)\n",
    "        y_train_pred = LR.predict(X_train)\n",
    "        y_test_pred = LR.predict(X_test)\n",
    "        \n",
    "        # Compute RMSE and store in a dictionary\n",
    "        rmse_train = self.rmse(y_train, y_train_pred)\n",
    "        rmse_test = self.rmse(y_test,  y_test_pred)\n",
    "        scores = {\n",
    "            'Model': label,\n",
    "            'Number of features': num_features,\n",
    "            'RMSE train': rmse_train,\n",
    "            'RMSE test': rmse_test\n",
    "        }\n",
    "        \n",
    "        return scores"
   ]
  },
  {
   "source": [
    "### Apply One-hot encoding"
   ],
   "cell_type": "markdown",
   "metadata": {}
  },
  {
   "cell_type": "code",
   "execution_count": null,
   "metadata": {},
   "outputs": [],
   "source": [
    "# Fit LR model in each set and print out RMSE\n",
    "error_df = [] # Blank error list to create a data frame later\n",
    "\n",
    "# Fit non-encoded data\n",
    "not_enc = LR_model(df).model_fit(label='not encoded')\n",
    "\n",
    "# Fit encoded data\n",
    "enc = LR_model(df).model_fit(label='one hot encoded', encoding=True)\n",
    "\n",
    "# Print out error table\n",
    "error_df = pd.DataFrame.from_dict([not_enc])\n",
    "error_df = error_df.append(enc, ignore_index=True)\n",
    "error_df"
   ]
  },
  {
   "source": [
    "The model that has encoded features performs better, which is understandable because it has more information to predict the target. RMSEs of test sets are slightly higher than training sets, which is expected. There is no sign of overfitting."
   ],
   "cell_type": "markdown",
   "metadata": {}
  },
  {
   "source": [
    "### Apply Square root transformation"
   ],
   "cell_type": "markdown",
   "metadata": {}
  },
  {
   "cell_type": "code",
   "execution_count": null,
   "metadata": {},
   "outputs": [],
   "source": [
    "# Fit non-encoded data\n",
    "not_enc_bc = LR_model(df).model_fit(label='not encoded + squareroot', squareroot=True)\n",
    "\n",
    "# Fit encoded data\n",
    "enc_bc = LR_model(df).model_fit(label='one hot encoded + squareroot', encoding=True, squareroot=True)\n",
    "\n",
    "# Print out error table\n",
    "error_df = error_df.append([not_enc_bc, enc_bc], ignore_index=True)\n",
    "error_df"
   ]
  },
  {
   "source": [
    "The transformation improves all models. The one that has encoded features is the best so far."
   ],
   "cell_type": "markdown",
   "metadata": {}
  },
  {
   "source": [
    "### Apply Standard scaling\n",
    "Scaling features is a preparation for regularization later. RMSEs of both training set and test set should stay the same. From this point onwards, I will use the encoded data only."
   ],
   "cell_type": "markdown",
   "metadata": {}
  },
  {
   "cell_type": "code",
   "execution_count": null,
   "metadata": {},
   "outputs": [],
   "source": [
    "# Fit encoded data\n",
    "enc_bc_s = LR_model(df).model_fit(label='one hot encoded + squareroot + scaled', encoding=True, squareroot=True, scaling=True)\n",
    "\n",
    "# Print out error table\n",
    "error_df = error_df.append(enc_bc_s, ignore_index=True)\n",
    "error_df"
   ]
  },
  {
   "source": [
    "### Add Polynomial features\n",
    "As shown in the pairplot, there is a polynomial relationship between the target and engineSize. Let's try adding polynomial features to the latest model (encoded, square root transformed, and scaled). "
   ],
   "cell_type": "markdown",
   "metadata": {}
  },
  {
   "cell_type": "code",
   "execution_count": null,
   "metadata": {},
   "outputs": [],
   "source": [
    "# Create blank error table\n",
    "error_pf_df = pd.DataFrame(columns=['Model', 'Number of features', 'RMSE train', 'RMSE test'])\n",
    "\n",
    "# Iterate different degree, 1 to 10\n",
    "for d in list(range(1,11)):\n",
    "    error = LR_model(df).model_fit(label=f'Degree = {d}', encoding=True, scaling=True, polynomial=True, degree=d)\n",
    "    error_pf_df = error_pf_df.append(error, ignore_index=True)\n",
    "\n",
    "# Print out the error table\n",
    "error_pf_df"
   ]
  },
  {
   "source": [
    "It looks like the third polynomial degree transformation returns the best model. At degree 4 and above, as the model gets more and more complex, it starts overfitting."
   ],
   "cell_type": "markdown",
   "metadata": {}
  },
  {
   "source": [
    "## 4. Cross-validation and Regularization\n",
    "In this part, I use cross validation to fit the linear regression model again, and then attempt to tune the hyperparameter to find a proper alpha and polynomial degree combination for regularization."
   ],
   "cell_type": "markdown",
   "metadata": {}
  },
  {
   "cell_type": "code",
   "execution_count": null,
   "metadata": {},
   "outputs": [],
   "source": [
    "# Import libraries\n",
    "from sklearn.linear_model import Lasso, Ridge, ElasticNet\n",
    "from sklearn.model_selection import KFold, cross_val_score\n",
    "from sklearn.preprocessing import FunctionTransformer\n",
    "from sklearn.pipeline import make_pipeline\n",
    "from sklearn_pandas import DataFrameMapper, gen_features"
   ]
  },
  {
   "cell_type": "code",
   "execution_count": null,
   "metadata": {},
   "outputs": [],
   "source": [
    "# 5-fold cross validation\n",
    "kf = KFold(shuffle=True, random_state=0, n_splits=5)"
   ]
  },
  {
   "cell_type": "code",
   "execution_count": null,
   "metadata": {},
   "outputs": [],
   "source": [
    "df = df[df['year'] <= 2020]\n",
    "df['age'] = 2020 - df['year']\n",
    "df = df.drop(['year'], axis=1)\n",
    "df['model'] = df['model'].str.strip(' ')\n",
    "\n",
    "X = df.drop('price', axis=1)\n",
    "y = df['price']"
   ]
  },
  {
   "cell_type": "code",
   "execution_count": null,
   "metadata": {},
   "outputs": [],
   "source": [
    "# Create a class for data pipeline\n",
    "class XPipe:\n",
    "    # Skew features observed from the EDA\n",
    "    skew_cols = ['engineSize', 'mileage', 'age']\n",
    "\n",
    "    def __init__(self, X):\n",
    "        self.cat_cols = X.select_dtypes(include=['object']).columns.tolist()\n",
    "        self.num_cols = X.select_dtypes(exclude=['object']).columns.tolist()\n",
    "        \n",
    "    def drop_first(self, cat_values):\n",
    "\n",
    "        \"\"\" Drops one category after one-hot encoding\"\"\"\n",
    "\n",
    "        dummy_df = pd.DataFrame(cat_values)\n",
    "        dummy_df = dummy_df.drop(0, axis=1)\n",
    "\n",
    "        return dummy_df.values\n",
    "\n",
    "    def sqrt_trans(self, num_values):\n",
    "\n",
    "        \"\"\" Applies square root transformation to skewed features\"\"\"\n",
    "\n",
    "        num_df = pd.DataFrame(num_values, columns=self.num_cols)\n",
    "        num_df[XPipe.skew_cols] = num_df[XPipe.skew_cols].apply(np.sqrt)\n",
    "        \n",
    "        return num_df.values\n",
    "\n",
    "    def model_pipe(self, model, degree=2):\n",
    "\n",
    "        \"\"\" Returns a data pipeline\"\"\"\n",
    "\n",
    "        cat_list = [[col] for col in self.cat_cols]\n",
    "        cat_features = gen_features(\n",
    "            columns=cat_list,\n",
    "            classes=[{'class':OneHotEncoder, 'handle_unknown':'ignore', 'sparse':False},\n",
    "                     {'class':FunctionTransformer, 'func': self.drop_first}]\n",
    "        )\n",
    "        \n",
    "        mapper = DataFrameMapper((cat_features) + [  \n",
    "            (self.num_cols, [FunctionTransformer(self.sqrt_trans),\n",
    "                             StandardScaler(),\n",
    "                             PolynomialFeatures(degree=degree, include_bias=False)])\n",
    "        ])\n",
    "\n",
    "        return make_pipeline(mapper, model)"
   ]
  },
  {
   "cell_type": "code",
   "execution_count": null,
   "metadata": {},
   "outputs": [],
   "source": [
    "XPipe(X).model_pipe(LinearRegression())"
   ]
  },
  {
   "source": [
    "Now, let's go over each model: Linear regression, Lasso regression, Ridge regression, and Elastic Net regression. Each model will be evaluated based on its average root mean squared error (from 5 folds)."
   ],
   "cell_type": "markdown",
   "metadata": {}
  },
  {
   "cell_type": "code",
   "execution_count": null,
   "metadata": {},
   "outputs": [],
   "source": [
    "# Create a blank dictionary to store metrics of different models\n",
    "metrics = {}"
   ]
  },
  {
   "source": [
    "### Linear Regression\n",
    "In the train test split part, adding the third degree polynomial features returns the best model. Let's see if cross-validation returns different results.\n",
    "\n"
   ],
   "cell_type": "markdown",
   "metadata": {}
  },
  {
   "cell_type": "code",
   "execution_count": null,
   "metadata": {
    "tags": []
   },
   "outputs": [],
   "source": [
    "# Blank dictionary to add in metrics\n",
    "lr_scores = {}\n",
    "\n",
    "# Iterate over different degrees, 1 to 6\n",
    "for d in list(range(1,7)):\n",
    "    score = cross_val_score(XPipe(X)\n",
    "                            .model_pipe(LinearRegression(), degree=d),\n",
    "                            X, y, cv=kf, scoring='neg_mean_squared_error')\n",
    "    lr_scores[f'Degree = {d}'] = np.mean(np.sqrt(-score))\n",
    "\n",
    "# Create an error table and print it out\n",
    "lr_rmse = pd.DataFrame.from_dict(lr_scores, orient='index', columns=['Average RMSE']).sort_values('Average RMSE')\n",
    "lr_rmse"
   ]
  },
  {
   "source": [
    "The third polynomial degree model still returns the lowest RMSE on average. Let's see the R2 score in each fold."
   ],
   "cell_type": "markdown",
   "metadata": {}
  },
  {
   "cell_type": "code",
   "execution_count": null,
   "metadata": {},
   "outputs": [],
   "source": [
    "# Calculate average R squared\n",
    "lr_r2_scores = cross_val_score(XPipe(X)\n",
    "                              .model_pipe(LinearRegression(), degree=3),\n",
    "                              X, y, cv=kf)\n",
    "lr_r2_scores"
   ]
  },
  {
   "cell_type": "code",
   "execution_count": null,
   "metadata": {},
   "outputs": [],
   "source": [
    "# Store the metrics\n",
    "metrics['Average RMSE'] = [lr_rmse['Average RMSE'].values[0]]\n",
    "metrics['Average R2'] = [np.mean(lr_r2_scores)]"
   ]
  },
  {
   "source": [
    "### Lasso Regression (L1)\n",
    "Find a combination of alpha and polynomial degree for Lasso regularization"
   ],
   "cell_type": "markdown",
   "metadata": {}
  },
  {
   "cell_type": "code",
   "execution_count": null,
   "metadata": {
    "tags": []
   },
   "outputs": [],
   "source": [
    "# Blank dictionary to add in metrics\n",
    "las_scores = {}\n",
    "\n",
    "# Iterate over different alphas\n",
    "for d in [1, 2, 3]:\n",
    "    for a in [0.005, 0.01, 0.05, 0.1, 0.3, 1, 3, 5, 10]:\n",
    "        score = cross_val_score(XPipe(X)\n",
    "                                .model_pipe(Lasso(alpha=a, max_iter=100000), degree=d),\n",
    "                                X, y, cv=kf, scoring='neg_mean_squared_error')\n",
    "            \n",
    "        las_scores[f'Degree = {d}, alpha = {a}'] = np.mean(np.sqrt(-score))\n",
    "\n",
    "# Create an error table and print it out (first 5 rows)\n",
    "las_rmse = pd.DataFrame.from_dict(las_scores, orient='index', columns=['Average RMSE']).sort_values('Average RMSE')\n",
    "las_rmse.head(5)"
   ]
  },
  {
   "cell_type": "code",
   "execution_count": null,
   "metadata": {},
   "outputs": [],
   "source": [
    "# Calculate average R squared\n",
    "las_r2_scores = cross_val_score(XPipe(X)\n",
    "                                .model_pipe(Lasso(alpha=0.3, max_iter=100000), degree=3),\n",
    "                                X, y, cv=kf)\n",
    "las_r2_scores"
   ]
  },
  {
   "cell_type": "code",
   "execution_count": null,
   "metadata": {},
   "outputs": [],
   "source": [
    "# Store the metrics\n",
    "metrics['Average RMSE'].append(las_rmse['Average RMSE'].values[0])\n",
    "metrics['Average R2'].append(np.mean(las_r2_scores))"
   ]
  },
  {
   "source": [
    "### Ridge Regression (L2)"
   ],
   "cell_type": "markdown",
   "metadata": {}
  },
  {
   "cell_type": "code",
   "execution_count": null,
   "metadata": {
    "tags": []
   },
   "outputs": [],
   "source": [
    "# Blank dictionary to add in metrics\n",
    "ridge_scores = {}\n",
    "\n",
    "# Iterate over different alphas\n",
    "for d in [1, 2, 3]:\n",
    "    for a in [0.005, 0.01, 0.05, 0.1, 0.3, 1, 3, 5, 10]:\n",
    "        score = cross_val_score(XPipe(X)\n",
    "                                .model_pipe(Ridge(alpha=a, max_iter=100000), degree=d),\n",
    "                                X, y, cv=kf, scoring='neg_mean_squared_error')\n",
    "\n",
    "                                \n",
    "        ridge_scores[f'Degree = {d}, alpha = {a}'] = np.mean(np.sqrt(-score))\n",
    "\n",
    "# Create an error table and print it out (first 5 rows)\n",
    "ridge_rmse = pd.DataFrame.from_dict(ridge_scores, orient='index', columns=['Average RMSE']).sort_values('Average RMSE')\n",
    "ridge_rmse.head(5)"
   ]
  },
  {
   "cell_type": "code",
   "execution_count": null,
   "metadata": {},
   "outputs": [],
   "source": [
    "# Calculate average R squared\n",
    "ridge_r2_scores = cross_val_score(XPipe(X)\n",
    "                                  .model_pipe(Ridge(alpha=0.005, max_iter=100000), degree=3),\n",
    "                                  X, y, cv=kf)\n",
    "ridge_r2_scores"
   ]
  },
  {
   "cell_type": "code",
   "execution_count": null,
   "metadata": {},
   "outputs": [],
   "source": [
    "# Store the metrics\n",
    "metrics['Average RMSE'].append(ridge_rmse['Average RMSE'].values[0])\n",
    "metrics['Average R2'].append(np.mean(ridge_r2_scores))"
   ]
  },
  {
   "source": [
    "Lasso is slightly better than the Linear model. I highly doubt if it shrank any coefficient albeit the high multicollinearity among predictors."
   ],
   "cell_type": "markdown",
   "metadata": {}
  },
  {
   "source": [
    "### Elastic Net Regresstion (L1 + L2)"
   ],
   "cell_type": "markdown",
   "metadata": {}
  },
  {
   "cell_type": "code",
   "execution_count": null,
   "metadata": {
    "tags": []
   },
   "outputs": [],
   "source": [
    "# Blank dictionary to add in metrics\n",
    "elasticnet_scores = {}\n",
    "\n",
    "# Iterate over different alphas\n",
    "for d in [1, 2, 3]:\n",
    "    for a in [0.005, 0.01, 0.05, 0.1, 0.3, 1, 3, 5, 10]:\n",
    "        score = cross_val_score(XPipe(X)\n",
    "                                .model_pipe(ElasticNet(alpha=a, max_iter=100000), degree=d),\n",
    "                                X, y, cv=kf, scoring='neg_mean_squared_error')\n",
    "        elasticnet_scores[f'Degree = {d}, alpha = {a}'] = np.mean(np.sqrt(-score))\n",
    "\n",
    "# Create an error table and print it out (first 5 rows)\n",
    "elasticnet_rmse = pd.DataFrame.from_dict(elasticnet_scores, orient='index', columns=['Average RMSE']).sort_values('Average RMSE')\n",
    "elasticnet_rmse.head(5)"
   ]
  },
  {
   "cell_type": "code",
   "execution_count": null,
   "metadata": {},
   "outputs": [],
   "source": [
    "# Calculate average R squared\n",
    "elasticnet_r2_scores = cross_val_score(XPipe(X)\n",
    "                                       .model_pipe(ElasticNet(alpha=0.005, max_iter=100000), degree=3),\n",
    "                                       X, y, cv=kf)\n",
    "elasticnet_r2_scores"
   ]
  },
  {
   "cell_type": "code",
   "execution_count": null,
   "metadata": {},
   "outputs": [],
   "source": [
    "# Store the metrics\n",
    "metrics['Average RMSE'].append(elasticnet_rmse['Average RMSE'].values[0])\n",
    "metrics['Average R2'].append(np.mean(elasticnet_r2_scores))"
   ]
  },
  {
   "source": [
    "This model performs the worst so far."
   ],
   "cell_type": "markdown",
   "metadata": {}
  },
  {
   "source": [
    "### Compare the metrics"
   ],
   "cell_type": "markdown",
   "metadata": {}
  },
  {
   "cell_type": "code",
   "execution_count": null,
   "metadata": {},
   "outputs": [],
   "source": [
    "# Create a comparison table\n",
    "metrics['Model'] = ['Linear', 'Lasso', 'Ridge', 'Elastic Net']\n",
    "pd.DataFrame.from_dict(metrics).set_index('Model').sort_values('Average RMSE')"
   ]
  },
  {
   "source": [
    "Lasso is the best model even though the metrics among these models are not significantly different."
   ],
   "cell_type": "markdown",
   "metadata": {}
  },
  {
   "source": [
    "## 5. Predict on the test set\n",
    "In this part, I will use four models to make prediction on the unseen test set."
   ],
   "cell_type": "markdown",
   "metadata": {}
  },
  {
   "cell_type": "code",
   "execution_count": null,
   "metadata": {},
   "outputs": [],
   "source": [
    "# Keep the original data\n",
    "train_df, test_df = train.copy(), test.copy()"
   ]
  },
  {
   "cell_type": "code",
   "execution_count": null,
   "metadata": {},
   "outputs": [],
   "source": [
    "# Clean the training set\n",
    "X_train = train_df.drop('price', axis=1)\n",
    "y_train = train_df['price']"
   ]
  },
  {
   "cell_type": "code",
   "execution_count": null,
   "metadata": {},
   "outputs": [],
   "source": [
    "# Clean the test set\n",
    "test_df = test_df[test_df['year'] <= 2020]\n",
    "test_df['age'] = 2020 - test_df['year']\n",
    "test_df = test_df.drop(['year'], axis=1)\n",
    "test_df['model'] = test_df['model'].str.strip(' ')\n",
    "\n",
    "X_test = test_df.drop('price', axis=1)\n",
    "y_test = test_df['price']"
   ]
  },
  {
   "source": [
    "### Scatter plots from four models"
   ],
   "cell_type": "markdown",
   "metadata": {}
  },
  {
   "cell_type": "code",
   "execution_count": null,
   "metadata": {},
   "outputs": [],
   "source": [
    "# Make prediction on the test set and plot four scatter plots separately\n",
    "\n",
    "fig, axes = plt.subplots(2,2, figsize=(14,14), sharex=True, sharey=True)\n",
    "fig.text(0.5, 0.07, 'Predicted Price', ha='center', fontdict={'size': 16})\n",
    "fig.text(0.07, 0.5, 'Actual Price', va='center', rotation='vertical', fontdict={'size': 16})\n",
    "\n",
    "models = [LinearRegression(), Lasso(alpha=0.3, max_iter=100000),\n",
    "          Ridge(alpha=0.005, max_iter=100000), ElasticNet(alpha=0.005, max_iter=100000)]\n",
    "\n",
    "labels = ['Linear', 'Lasso', 'Ridge', 'Elastic Net']\n",
    "\n",
    "for i, ax in enumerate(axes.flatten()):\n",
    "    y_pred = (XPipe(X_train)\n",
    "              .model_pipe(models[i], degree=3)\n",
    "              .fit(X_train, y_train)\n",
    "              .predict(X_test))\n",
    "\n",
    "    r_squared = r2_score(y_test, y_pred)\n",
    "\n",
    "    ax.plot(y_test, y_pred, marker='o', ls='', ms=3.0)\n",
    "    ax.set(title=f'{labels[i]} Regression R2: {r_squared}')"
   ]
  },
  {
   "source": [
    "Lasso Regression has the best prediction on the test set. All these models can explain the target around 87% - 88%."
   ],
   "cell_type": "markdown",
   "metadata": {}
  },
  {
   "cell_type": "code",
   "execution_count": null,
   "metadata": {},
   "outputs": [],
   "source": [
    "# Make prediction on the test set and plot one combined scatter plot\n",
    "\n",
    "fig = plt.figure(figsize=(6,6))\n",
    "ax = plt.axes()\n",
    "\n",
    "models = [ElasticNet(alpha=0.005, max_iter=100000), LinearRegression(),\n",
    "          Ridge(alpha=0.005, max_iter=100000), Lasso(alpha=0.3, max_iter=100000)]\n",
    "         \n",
    "labels = ['Elastic Net', 'Linear', 'Ridge', 'Lasso']\n",
    "\n",
    "for mod, lab in zip(models, labels):\n",
    "    y_pred = (XPipe(X_train)\n",
    "              .model_pipe(mod, degree=3)\n",
    "              .fit(X_train, y_train)\n",
    "              .predict(X_test))\n",
    "    ax.plot(y_test, y_pred, marker='o', ls='', ms=3.0, label=lab)\n",
    "\n",
    "leg = plt.legend(frameon=True)\n",
    "leg.get_frame().set_edgecolor('black')\n",
    "leg.get_frame().set_linewidth(1.0)\n",
    "\n",
    "ax.set(xlabel='Actual Price', \n",
    "       ylabel='Predicted Price', \n",
    "       title='Regression Results');"
   ]
  },
  {
   "source": [
    "As expected, these plots are nearly identical."
   ],
   "cell_type": "markdown",
   "metadata": {}
  },
  {
   "source": [
    "### Feature importance\n",
    "As shown above, the Lasso Regression is our best model. Let's see which feature is the most important in the model."
   ],
   "cell_type": "markdown",
   "metadata": {}
  },
  {
   "cell_type": "code",
   "execution_count": null,
   "metadata": {},
   "outputs": [],
   "source": [
    "# Have a look at the data pipeline\n",
    "estimator = XPipe(X_train).model_pipe(Lasso(alpha=0.3, max_iter=100000), degree=3)\n",
    "estimator.fit(X_train, y_train)"
   ]
  },
  {
   "cell_type": "code",
   "execution_count": null,
   "metadata": {},
   "outputs": [],
   "source": [
    "# Get the transformer list and feature names\n",
    "transformers = estimator.named_steps['dataframemapper'].features\n",
    "cat_cols = XPipe(X_train).cat_cols\n",
    "num_cols = XPipe(X_train).num_cols"
   ]
  },
  {
   "cell_type": "code",
   "execution_count": null,
   "metadata": {},
   "outputs": [],
   "source": [
    "# Iterate over each transformer and get the feature names\n",
    "feature_names = []\n",
    "for f in transformers:\n",
    "    for col in cat_cols:\n",
    "        if f[0] == [col]:\n",
    "            names = f[1][0].get_feature_names([col]).tolist()\n",
    "            del names[0]\n",
    "            feature_names.append(names)\n",
    "    if f[0] == num_cols:\n",
    "        names = f[1][2].get_feature_names(num_cols)\n",
    "        feature_names.append(names)\n",
    "    else:\n",
    "        pass\n",
    "features = [name for names in feature_names for name in names]"
   ]
  },
  {
   "cell_type": "code",
   "execution_count": null,
   "metadata": {},
   "outputs": [],
   "source": [
    "beta_coef = estimator.named_steps['lasso'].coef_\n",
    "print(f'Number of estimates: {len(beta_coef)}')\n",
    "print(f'Number of features: {len(features)}')"
   ]
  },
  {
   "cell_type": "code",
   "execution_count": null,
   "metadata": {},
   "outputs": [],
   "source": [
    "# Print out most importance features by the magnitude of the estimates\n",
    "df_importances = pd.DataFrame(zip(features, beta_coef), columns=['feature', 'estimate'])\n",
    "df_importances = df_importances.sort_values(by='estimate', ascending=False).reset_index(drop=True)\n",
    "print(df_importances.head())\n",
    "print('-'*50)\n",
    "print(df_importances.tail())"
   ]
  },
  {
   "cell_type": "code",
   "execution_count": null,
   "metadata": {},
   "outputs": [],
   "source": [
    "# If Lasso shrank any coefficient\n",
    "any(df_importances['estimate'] == 0)"
   ]
  },
  {
   "cell_type": "code",
   "execution_count": null,
   "metadata": {},
   "outputs": [],
   "source": [
    "# Features that Lasso eliminated\n",
    "df_importances[df_importances['estimate'] == 0]"
   ]
  },
  {
   "source": [
    "Looking back at the box plots of price by model and fuel type, we can see that these shrunk features are rare categories in our data set (or their prices do not vary much). I would say Lasso did a good job to eliminate them."
   ],
   "cell_type": "markdown",
   "metadata": {}
  },
  {
   "cell_type": "code",
   "execution_count": null,
   "metadata": {},
   "outputs": [],
   "source": [
    "# Visualize the feature importance\n",
    "df_importances.set_index('feature').plot(kind='bar', legend=None, figsize=(25,10))\n",
    "plt.title('Feature Importance', fontsize=16);"
   ]
  },
  {
   "source": [
    "The main drivers of this model are features that indicate whether or not the car model is Edge, Mustang, Tourneo Custom, Galaxy, S-MAX, Puma, or Grand Tourneo Connect. These are all derived from the categorical feature - model. Among numerical features, age and mileage have the strongest predictive power. Most interaction terms and polynomial features have low estimates in comparison to others."
   ],
   "cell_type": "markdown",
   "metadata": {}
  },
  {
   "source": [
    "## 6. Conclusion\n",
    "This analysis shows that feature engineering can have a large effect on the model performance, and if the data are sufficiently large, cross-validation should be preferred over train-test-split to construct model evaluation. In my case, even though the predictors have high multicollinearity, their coefficients were not shrunk by the Lasso model, and it is shown that regularization does not always make big improvement on a given model. In the end, the Lasso regression has the highest $R^2$ when predicting on the test set, and categories of car model appear to be the most important features to predict a car price. Also, Lasso did shrink some of the features that are not so important in terms of prediction.\n",
    "\n",
    "While researching further analysis, I found a [suggestion](https://stats.stackexchange.com/a/326846) of using [grouped Lasso](http://cs229.stanford.edu/proj2012/ChoiParkSeo-LassoInCategoricalData.pdf) when a model have categorical features, which is worth trying in this case."
   ],
   "cell_type": "markdown",
   "metadata": {}
  }
 ]
}