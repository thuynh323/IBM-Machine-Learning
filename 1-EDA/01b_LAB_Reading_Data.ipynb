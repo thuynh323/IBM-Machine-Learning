{
 "cells": [
  {
   "cell_type": "markdown",
   "metadata": {},
   "source": [
    "# Machine Learning Foundation\n",
    "\n",
    "## Section 1, Part b: Reading Data Lab"
   ]
  },
  {
   "cell_type": "code",
   "execution_count": 1,
   "metadata": {},
   "outputs": [],
   "source": [
    "# Imports\n",
    "import sqlite3 as sq3\n",
    "import pandas.io.sql as pds\n",
    "import pandas as pd"
   ]
  },
  {
   "cell_type": "markdown",
   "metadata": {},
   "source": [
    "## Lab Exercise: Reading in database files\n",
    "\n",
    " - Create a variable, `path`, containing the path to the `baseball.db` contained in `resources/`\n",
    " - Create a connection, `con`, that is connected to database at `path`\n",
    " - Create a variable, `query`, containing a SQL query which reads in all data from the `allstarfull` table\n",
    " - Create a variable, `observations`, by using pandas' [read_sql](https://pandas.pydata.org/pandas-docs/stable/reference/api/pandas.read_sql.html)\n",
    "\n",
    "### Optional\n",
    " - Create a variable, `tables`, which reads in all data from the table `sqlite_master`\n",
    " - Pretend that you were interesting in creating a new baseball hall of fame. Join and analyze the tables to evaluate the top 3 all time best baseball players."
   ]
  },
  {
   "cell_type": "code",
   "execution_count": 2,
   "metadata": {},
   "outputs": [],
   "source": [
    "# Create a variable, path, containing the path to the baseball.db contained in resources/\n",
    "path = 'data/baseball.db'\n",
    "\n",
    "# Create a connection, con, that is connected to database at path\n",
    "con = sq3.Connection(path)"
   ]
  },
  {
   "cell_type": "code",
   "execution_count": 3,
   "metadata": {},
   "outputs": [
    {
     "output_type": "execute_result",
     "data": {
      "text/plain": [
       "   index   playerID  yearID  gameNum        gameID teamID lgID   GP  \\\n",
       "0      0  gomezle01    1933        0  ALS193307060    NYA   AL  1.0   \n",
       "1      1  ferreri01    1933        0  ALS193307060    BOS   AL  1.0   \n",
       "2      2  gehrilo01    1933        0  ALS193307060    NYA   AL  1.0   \n",
       "3      3  gehrich01    1933        0  ALS193307060    DET   AL  1.0   \n",
       "4      4  dykesji01    1933        0  ALS193307060    CHA   AL  1.0   \n",
       "\n",
       "   startingPos  \n",
       "0          1.0  \n",
       "1          2.0  \n",
       "2          3.0  \n",
       "3          4.0  \n",
       "4          5.0  "
      ],
      "text/html": "<div>\n<style scoped>\n    .dataframe tbody tr th:only-of-type {\n        vertical-align: middle;\n    }\n\n    .dataframe tbody tr th {\n        vertical-align: top;\n    }\n\n    .dataframe thead th {\n        text-align: right;\n    }\n</style>\n<table border=\"1\" class=\"dataframe\">\n  <thead>\n    <tr style=\"text-align: right;\">\n      <th></th>\n      <th>index</th>\n      <th>playerID</th>\n      <th>yearID</th>\n      <th>gameNum</th>\n      <th>gameID</th>\n      <th>teamID</th>\n      <th>lgID</th>\n      <th>GP</th>\n      <th>startingPos</th>\n    </tr>\n  </thead>\n  <tbody>\n    <tr>\n      <th>0</th>\n      <td>0</td>\n      <td>gomezle01</td>\n      <td>1933</td>\n      <td>0</td>\n      <td>ALS193307060</td>\n      <td>NYA</td>\n      <td>AL</td>\n      <td>1.0</td>\n      <td>1.0</td>\n    </tr>\n    <tr>\n      <th>1</th>\n      <td>1</td>\n      <td>ferreri01</td>\n      <td>1933</td>\n      <td>0</td>\n      <td>ALS193307060</td>\n      <td>BOS</td>\n      <td>AL</td>\n      <td>1.0</td>\n      <td>2.0</td>\n    </tr>\n    <tr>\n      <th>2</th>\n      <td>2</td>\n      <td>gehrilo01</td>\n      <td>1933</td>\n      <td>0</td>\n      <td>ALS193307060</td>\n      <td>NYA</td>\n      <td>AL</td>\n      <td>1.0</td>\n      <td>3.0</td>\n    </tr>\n    <tr>\n      <th>3</th>\n      <td>3</td>\n      <td>gehrich01</td>\n      <td>1933</td>\n      <td>0</td>\n      <td>ALS193307060</td>\n      <td>DET</td>\n      <td>AL</td>\n      <td>1.0</td>\n      <td>4.0</td>\n    </tr>\n    <tr>\n      <th>4</th>\n      <td>4</td>\n      <td>dykesji01</td>\n      <td>1933</td>\n      <td>0</td>\n      <td>ALS193307060</td>\n      <td>CHA</td>\n      <td>AL</td>\n      <td>1.0</td>\n      <td>5.0</td>\n    </tr>\n  </tbody>\n</table>\n</div>"
     },
     "metadata": {},
     "execution_count": 3
    }
   ],
   "source": [
    "# Create a variable, query, containing a SQL query which reads in all data from the allstarfull table\n",
    "query1 = \"\"\"\n",
    "SELECT *\n",
    "FROM allstarfull;\n",
    "\"\"\"\n",
    "\n",
    "# Create a variable, observations, by using pandas' read_sql\n",
    "observations = pds.read_sql(query1, con)\n",
    "observations.head()"
   ]
  },
  {
   "cell_type": "code",
   "execution_count": 4,
   "metadata": {},
   "outputs": [
    {
     "output_type": "execute_result",
     "data": {
      "text/plain": [
       "    type                  name     tbl_name  rootpage  \\\n",
       "0  table           allstarfull  allstarfull         2   \n",
       "1  index  ix_allstarfull_index  allstarfull         3   \n",
       "2  table               schools      schools        26   \n",
       "3  index      ix_schools_index      schools        31   \n",
       "4  table               batting      batting        99   \n",
       "5  index      ix_batting_index      batting       100   \n",
       "\n",
       "                                                 sql  \n",
       "0  CREATE TABLE \"allstarfull\" (\\n\"index\" INTEGER,...  \n",
       "1  CREATE INDEX \"ix_allstarfull_index\"ON \"allstar...  \n",
       "2  CREATE TABLE \"schools\" (\\n\"index\" INTEGER,\\n  ...  \n",
       "3  CREATE INDEX \"ix_schools_index\"ON \"schools\" (\"...  \n",
       "4  CREATE TABLE \"batting\" (\\n\"index\" INTEGER,\\n  ...  \n",
       "5  CREATE INDEX \"ix_batting_index\"ON \"batting\" (\"...  "
      ],
      "text/html": "<div>\n<style scoped>\n    .dataframe tbody tr th:only-of-type {\n        vertical-align: middle;\n    }\n\n    .dataframe tbody tr th {\n        vertical-align: top;\n    }\n\n    .dataframe thead th {\n        text-align: right;\n    }\n</style>\n<table border=\"1\" class=\"dataframe\">\n  <thead>\n    <tr style=\"text-align: right;\">\n      <th></th>\n      <th>type</th>\n      <th>name</th>\n      <th>tbl_name</th>\n      <th>rootpage</th>\n      <th>sql</th>\n    </tr>\n  </thead>\n  <tbody>\n    <tr>\n      <th>0</th>\n      <td>table</td>\n      <td>allstarfull</td>\n      <td>allstarfull</td>\n      <td>2</td>\n      <td>CREATE TABLE \"allstarfull\" (\\n\"index\" INTEGER,...</td>\n    </tr>\n    <tr>\n      <th>1</th>\n      <td>index</td>\n      <td>ix_allstarfull_index</td>\n      <td>allstarfull</td>\n      <td>3</td>\n      <td>CREATE INDEX \"ix_allstarfull_index\"ON \"allstar...</td>\n    </tr>\n    <tr>\n      <th>2</th>\n      <td>table</td>\n      <td>schools</td>\n      <td>schools</td>\n      <td>26</td>\n      <td>CREATE TABLE \"schools\" (\\n\"index\" INTEGER,\\n  ...</td>\n    </tr>\n    <tr>\n      <th>3</th>\n      <td>index</td>\n      <td>ix_schools_index</td>\n      <td>schools</td>\n      <td>31</td>\n      <td>CREATE INDEX \"ix_schools_index\"ON \"schools\" (\"...</td>\n    </tr>\n    <tr>\n      <th>4</th>\n      <td>table</td>\n      <td>batting</td>\n      <td>batting</td>\n      <td>99</td>\n      <td>CREATE TABLE \"batting\" (\\n\"index\" INTEGER,\\n  ...</td>\n    </tr>\n    <tr>\n      <th>5</th>\n      <td>index</td>\n      <td>ix_batting_index</td>\n      <td>batting</td>\n      <td>100</td>\n      <td>CREATE INDEX \"ix_batting_index\"ON \"batting\" (\"...</td>\n    </tr>\n  </tbody>\n</table>\n</div>"
     },
     "metadata": {},
     "execution_count": 4
    }
   ],
   "source": [
    "# Create a variable, tables, which reads in all data from the table sqlite_master\n",
    "query2 = \"\"\"\n",
    "SELECT *\n",
    "FROM sqlite_master;\n",
    "\"\"\"\n",
    "\n",
    "tables = pds.read_sql(query2, con)\n",
    "tables"
   ]
  },
  {
   "cell_type": "code",
   "execution_count": 5,
   "metadata": {},
   "outputs": [
    {
     "output_type": "execute_result",
     "data": {
      "text/plain": [
       "   index    schoolID                     name_full         city state country\n",
       "0      0  abilchrist  Abilene Christian University      Abilene    TX     USA\n",
       "1      1     adelphi            Adelphi University  Garden City    NY     USA\n",
       "2      2    adrianmi                Adrian College       Adrian    MI     USA\n",
       "3      3       akron           University of Akron        Akron    OH     USA\n",
       "4      4     alabama         University of Alabama   Tuscaloosa    AL     USA"
      ],
      "text/html": "<div>\n<style scoped>\n    .dataframe tbody tr th:only-of-type {\n        vertical-align: middle;\n    }\n\n    .dataframe tbody tr th {\n        vertical-align: top;\n    }\n\n    .dataframe thead th {\n        text-align: right;\n    }\n</style>\n<table border=\"1\" class=\"dataframe\">\n  <thead>\n    <tr style=\"text-align: right;\">\n      <th></th>\n      <th>index</th>\n      <th>schoolID</th>\n      <th>name_full</th>\n      <th>city</th>\n      <th>state</th>\n      <th>country</th>\n    </tr>\n  </thead>\n  <tbody>\n    <tr>\n      <th>0</th>\n      <td>0</td>\n      <td>abilchrist</td>\n      <td>Abilene Christian University</td>\n      <td>Abilene</td>\n      <td>TX</td>\n      <td>USA</td>\n    </tr>\n    <tr>\n      <th>1</th>\n      <td>1</td>\n      <td>adelphi</td>\n      <td>Adelphi University</td>\n      <td>Garden City</td>\n      <td>NY</td>\n      <td>USA</td>\n    </tr>\n    <tr>\n      <th>2</th>\n      <td>2</td>\n      <td>adrianmi</td>\n      <td>Adrian College</td>\n      <td>Adrian</td>\n      <td>MI</td>\n      <td>USA</td>\n    </tr>\n    <tr>\n      <th>3</th>\n      <td>3</td>\n      <td>akron</td>\n      <td>University of Akron</td>\n      <td>Akron</td>\n      <td>OH</td>\n      <td>USA</td>\n    </tr>\n    <tr>\n      <th>4</th>\n      <td>4</td>\n      <td>alabama</td>\n      <td>University of Alabama</td>\n      <td>Tuscaloosa</td>\n      <td>AL</td>\n      <td>USA</td>\n    </tr>\n  </tbody>\n</table>\n</div>"
     },
     "metadata": {},
     "execution_count": 5
    }
   ],
   "source": [
    "pds.read_sql('SELECT * FROM schools', con).head()"
   ]
  },
  {
   "cell_type": "code",
   "execution_count": 6,
   "metadata": {},
   "outputs": [
    {
     "output_type": "execute_result",
     "data": {
      "text/plain": [
       "   index   playerID  yearID  stint teamID  lgID   G   AB   R   H  ...   RBI  \\\n",
       "0      0  abercda01    1871      1    TRO  None   1    4   0   0  ...   0.0   \n",
       "1      1   addybo01    1871      1    RC1  None  25  118  30  32  ...  13.0   \n",
       "2      2  allisar01    1871      1    CL1  None  29  137  28  40  ...  19.0   \n",
       "3      3  allisdo01    1871      1    WS3  None  27  133  28  44  ...  27.0   \n",
       "4      4  ansonca01    1871      1    RC1  None  25  120  29  39  ...  16.0   \n",
       "\n",
       "    SB   CS  BB   SO  IBB  HBP  SH  SF  GIDP  \n",
       "0  0.0  0.0   0  0.0  NaN  NaN NaN NaN   NaN  \n",
       "1  8.0  1.0   4  0.0  NaN  NaN NaN NaN   NaN  \n",
       "2  3.0  1.0   2  5.0  NaN  NaN NaN NaN   NaN  \n",
       "3  1.0  1.0   0  2.0  NaN  NaN NaN NaN   NaN  \n",
       "4  6.0  2.0   2  1.0  NaN  NaN NaN NaN   NaN  \n",
       "\n",
       "[5 rows x 23 columns]"
      ],
      "text/html": "<div>\n<style scoped>\n    .dataframe tbody tr th:only-of-type {\n        vertical-align: middle;\n    }\n\n    .dataframe tbody tr th {\n        vertical-align: top;\n    }\n\n    .dataframe thead th {\n        text-align: right;\n    }\n</style>\n<table border=\"1\" class=\"dataframe\">\n  <thead>\n    <tr style=\"text-align: right;\">\n      <th></th>\n      <th>index</th>\n      <th>playerID</th>\n      <th>yearID</th>\n      <th>stint</th>\n      <th>teamID</th>\n      <th>lgID</th>\n      <th>G</th>\n      <th>AB</th>\n      <th>R</th>\n      <th>H</th>\n      <th>...</th>\n      <th>RBI</th>\n      <th>SB</th>\n      <th>CS</th>\n      <th>BB</th>\n      <th>SO</th>\n      <th>IBB</th>\n      <th>HBP</th>\n      <th>SH</th>\n      <th>SF</th>\n      <th>GIDP</th>\n    </tr>\n  </thead>\n  <tbody>\n    <tr>\n      <th>0</th>\n      <td>0</td>\n      <td>abercda01</td>\n      <td>1871</td>\n      <td>1</td>\n      <td>TRO</td>\n      <td>None</td>\n      <td>1</td>\n      <td>4</td>\n      <td>0</td>\n      <td>0</td>\n      <td>...</td>\n      <td>0.0</td>\n      <td>0.0</td>\n      <td>0.0</td>\n      <td>0</td>\n      <td>0.0</td>\n      <td>NaN</td>\n      <td>NaN</td>\n      <td>NaN</td>\n      <td>NaN</td>\n      <td>NaN</td>\n    </tr>\n    <tr>\n      <th>1</th>\n      <td>1</td>\n      <td>addybo01</td>\n      <td>1871</td>\n      <td>1</td>\n      <td>RC1</td>\n      <td>None</td>\n      <td>25</td>\n      <td>118</td>\n      <td>30</td>\n      <td>32</td>\n      <td>...</td>\n      <td>13.0</td>\n      <td>8.0</td>\n      <td>1.0</td>\n      <td>4</td>\n      <td>0.0</td>\n      <td>NaN</td>\n      <td>NaN</td>\n      <td>NaN</td>\n      <td>NaN</td>\n      <td>NaN</td>\n    </tr>\n    <tr>\n      <th>2</th>\n      <td>2</td>\n      <td>allisar01</td>\n      <td>1871</td>\n      <td>1</td>\n      <td>CL1</td>\n      <td>None</td>\n      <td>29</td>\n      <td>137</td>\n      <td>28</td>\n      <td>40</td>\n      <td>...</td>\n      <td>19.0</td>\n      <td>3.0</td>\n      <td>1.0</td>\n      <td>2</td>\n      <td>5.0</td>\n      <td>NaN</td>\n      <td>NaN</td>\n      <td>NaN</td>\n      <td>NaN</td>\n      <td>NaN</td>\n    </tr>\n    <tr>\n      <th>3</th>\n      <td>3</td>\n      <td>allisdo01</td>\n      <td>1871</td>\n      <td>1</td>\n      <td>WS3</td>\n      <td>None</td>\n      <td>27</td>\n      <td>133</td>\n      <td>28</td>\n      <td>44</td>\n      <td>...</td>\n      <td>27.0</td>\n      <td>1.0</td>\n      <td>1.0</td>\n      <td>0</td>\n      <td>2.0</td>\n      <td>NaN</td>\n      <td>NaN</td>\n      <td>NaN</td>\n      <td>NaN</td>\n      <td>NaN</td>\n    </tr>\n    <tr>\n      <th>4</th>\n      <td>4</td>\n      <td>ansonca01</td>\n      <td>1871</td>\n      <td>1</td>\n      <td>RC1</td>\n      <td>None</td>\n      <td>25</td>\n      <td>120</td>\n      <td>29</td>\n      <td>39</td>\n      <td>...</td>\n      <td>16.0</td>\n      <td>6.0</td>\n      <td>2.0</td>\n      <td>2</td>\n      <td>1.0</td>\n      <td>NaN</td>\n      <td>NaN</td>\n      <td>NaN</td>\n      <td>NaN</td>\n      <td>NaN</td>\n    </tr>\n  </tbody>\n</table>\n<p>5 rows × 23 columns</p>\n</div>"
     },
     "metadata": {},
     "execution_count": 6
    }
   ],
   "source": [
    "pds.read_sql('SELECT * FROM batting', con).head()"
   ]
  },
  {
   "cell_type": "code",
   "execution_count": 7,
   "metadata": {},
   "outputs": [
    {
     "output_type": "stream",
     "name": "stdout",
     "text": [
      "    playerID  num_games_played  avg_starting_position\n0  musiast01              24.0               6.357143\n1   mayswi01              24.0               8.000000\n2  aaronha01              24.0               8.470588\n"
     ]
    }
   ],
   "source": [
    "# Pretend that you were interesting in creating a new baseball hall of fame.\n",
    "# Join and analyze the tables to evaluate the top 3 all time best baseball players\n",
    "query3 = \"\"\"\n",
    "SELECT playerID,\n",
    "       SUM(GP) AS num_games_played,\n",
    "       AVG(startingPos) AS avg_starting_position\n",
    "FROM allstarfull\n",
    "GROUP BY playerID\n",
    "ORDER BY num_games_played DESC, avg_starting_position ASC\n",
    "LIMIT 3\n",
    "\"\"\"\n",
    "\n",
    "best_players = pd.read_sql(query3, con)\n",
    "print(best_players)"
   ]
  },
  {
   "cell_type": "markdown",
   "metadata": {},
   "source": [
    "---\n",
    "### Machine Learning Foundation (C) 2020 IBM Corporation"
   ]
  }
 ],
 "metadata": {
  "kernelspec": {
   "display_name": "Python 3",
   "language": "python",
   "name": "python3"
  },
  "language_info": {
   "codemirror_mode": {
    "name": "ipython",
    "version": 3
   },
   "file_extension": ".py",
   "mimetype": "text/x-python",
   "name": "python",
   "nbconvert_exporter": "python",
   "pygments_lexer": "ipython3",
   "version": "3.8.5-final"
  }
 },
 "nbformat": 4,
 "nbformat_minor": 4
}